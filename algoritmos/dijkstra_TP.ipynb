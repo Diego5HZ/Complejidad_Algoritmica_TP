{
  "nbformat": 4,
  "nbformat_minor": 0,
  "metadata": {
    "colab": {
      "name": "dijkstra_TP.ipynb",
      "provenance": [],
      "collapsed_sections": []
    },
    "kernelspec": {
      "name": "python3",
      "display_name": "Python 3"
    },
    "language_info": {
      "name": "python"
    }
  },
  "cells": [
    {
      "cell_type": "code",
      "metadata": {
        "id": "shlsVOl-EuTr",
        "colab": {
          "base_uri": "https://localhost:8080/"
        },
        "outputId": "3c282e24-9520-4290-9b27-1a657147fc9c"
      },
      "source": [
        "!git clone https://github.com/lmcanavals/algorithmic_complexity.git 1>/dev/null"
      ],
      "execution_count": null,
      "outputs": [
        {
          "output_type": "stream",
          "text": [
            "Cloning into 'algorithmic_complexity'...\n",
            "remote: Enumerating objects: 268, done.\u001b[K\n",
            "remote: Counting objects: 100% (268/268), done.\u001b[K\n",
            "remote: Compressing objects: 100% (263/263), done.\u001b[K\n",
            "remote: Total 268 (delta 150), reused 0 (delta 0), pack-reused 0\u001b[K\n",
            "Receiving objects: 100% (268/268), 274.11 KiB | 4.49 MiB/s, done.\n",
            "Resolving deltas: 100% (150/150), done.\n"
          ],
          "name": "stdout"
        }
      ]
    },
    {
      "cell_type": "code",
      "metadata": {
        "id": "5FwfdSq0EXT0"
      },
      "source": [
        "from algorithmic_complexity.aclib import graphstuff as gs\n",
        "import pandas as pd\n",
        "import numpy as np\n",
        "import networkx as nx\n",
        "import heapq as hq\n",
        "import math"
      ],
      "execution_count": null,
      "outputs": []
    },
    {
      "cell_type": "code",
      "metadata": {
        "id": "Q8ryfWroVhON"
      },
      "source": [
        "url=\"https://raw.githubusercontent.com/lmcanavals/algorithmic_complexity/main/data/poblaciones.csv\"\n",
        "poblacionesDF = pd.read_csv(url)"
      ],
      "execution_count": null,
      "outputs": []
    },
    {
      "cell_type": "code",
      "metadata": {
        "id": "7xKktue6yxFs"
      },
      "source": [
        "nomdepartamentos = poblacionesDF['DEPARTAMENTO'].unique()"
      ],
      "execution_count": null,
      "outputs": []
    },
    {
      "cell_type": "code",
      "metadata": {
        "id": "9qB6Xkony9Fd"
      },
      "source": [
        "departamentos = dict()\n",
        "for nom in nomdepartamentos:\n",
        "  departamentos[nom] = poblacionesDF[poblacionesDF['DEPARTAMENTO'] == nom]"
      ],
      "execution_count": null,
      "outputs": []
    },
    {
      "cell_type": "code",
      "metadata": {
        "id": "00kCr3W0zniL"
      },
      "source": [
        "#@title Provincia \n",
        "#@markdown Ingrese el departamento   \n",
        "#@markdown\n",
        "#@markdown Ingrese la provincia  \n",
        "#@markdown\n",
        "#@markdown Ingrese el distrito  \n",
        "#@markdown\n",
        "#@markdown Ingrese el centro poblado  \n",
        "\n",
        "no_type_checking = ''\n",
        "nom_departamento = 'AMAZONAS'\n",
        "nom_provincia = 'UTCUBAMBA'\n",
        "nom_distrito = 'CUMBA'\n",
        "nom_centro_pob = 'CHALA'"
      ],
      "execution_count": null,
      "outputs": []
    },
    {
      "cell_type": "code",
      "metadata": {
        "id": "kF8j-Rbw0_IT"
      },
      "source": [
        "nomprovincias = departamentos[nom_departamento]['PROVINCIA'].unique()"
      ],
      "execution_count": null,
      "outputs": []
    },
    {
      "cell_type": "code",
      "metadata": {
        "id": "e2esqtIpAUzU"
      },
      "source": [
        "provincias = dict()\n",
        "for nom in nomprovincias:\n",
        "  provincias[nom] = departamentos[nom_departamento][departamentos[nom_departamento]['PROVINCIA'] == nom]"
      ],
      "execution_count": null,
      "outputs": []
    },
    {
      "cell_type": "code",
      "metadata": {
        "id": "4GnUJ5Ep16oM"
      },
      "source": [
        "nomdistritos = provincias[nom_provincia]['DISTRITO'].unique()"
      ],
      "execution_count": null,
      "outputs": []
    },
    {
      "cell_type": "code",
      "metadata": {
        "id": "6kJBue7k2Us0"
      },
      "source": [
        "distritos = dict()\n",
        "for nom in nomdistritos:\n",
        "  distritos[nom] = provincias[nom_provincia][provincias[nom_provincia]['DISTRITO'] == nom]"
      ],
      "execution_count": null,
      "outputs": []
    },
    {
      "cell_type": "code",
      "metadata": {
        "id": "OeMw20z48hN4"
      },
      "source": [
        "def haversine(cp1, cp2):\n",
        "  la1, lo1 = float(cp1['LATITUD']), float(cp1['LONGITUD'])\n",
        "  la2, lo2 = float(cp2['LATITUD']), float(cp2['LONGITUD'])\n",
        "  \n",
        "  lo1, la1, lo2, la2 = map(math.radians, [lo1, la1, lo2, la2])\n",
        "  dlo = lo2 - lo1\n",
        "  dla = la2 - la1\n",
        "  a = math.sin(dla/2)**2 + math.cos(la1) * math.cos(la2) * math.sin(dlo/2)**2\n",
        "  c = 2 * math.asin(math.sqrt(a))\n",
        "  r = 6371\n",
        "\n",
        "  return round(c * r, 2)"
      ],
      "execution_count": null,
      "outputs": []
    },
    {
      "cell_type": "code",
      "metadata": {
        "id": "_fe5vQ3cAFs0"
      },
      "source": [
        "distrito = distritos[nom_distrito]"
      ],
      "execution_count": null,
      "outputs": []
    },
    {
      "cell_type": "code",
      "metadata": {
        "id": "mc7bYl4g8tv4"
      },
      "source": [
        "G = nx.Graph()\n",
        "col = 'CENTRO POBLADO'\n",
        "for i, cp1 in distrito.iterrows():\n",
        "  G.add_node(i, label=cp1[col])\n",
        "\n",
        "for i, cp1 in distrito.iterrows():\n",
        "  for j, cp2 in distrito.iterrows():\n",
        "    if cp1[col] != cp2[col]:\n",
        "      G.add_edge(i, j, weight=haversine(cp1, cp2))"
      ],
      "execution_count": null,
      "outputs": []
    },
    {
      "cell_type": "code",
      "metadata": {
        "colab": {
          "base_uri": "https://localhost:8080/",
          "height": 428
        },
        "id": "ODaFsMDLWYW5",
        "outputId": "dd33da6a-521c-4a0e-d88d-20983663d07c"
      },
      "source": [
        "gs.nx2gv(G, weighted=True, params={'size':'10'}, nodeinfo=True)"
      ],
      "execution_count": null,
      "outputs": [
        {
          "output_type": "execute_result",
          "data": {
            "text/plain": [
              "<graphviz.dot.Graph at 0x7f7cf59bccd0>"
            ],
            "image/svg+xml": "<?xml version=\"1.0\" encoding=\"UTF-8\" standalone=\"no\"?>\n<!DOCTYPE svg PUBLIC \"-//W3C//DTD SVG 1.1//EN\"\n \"http://www.w3.org/Graphics/SVG/1.1/DTD/svg11.dtd\">\n<!-- Generated by graphviz version 2.40.1 (20161225.0304)\n -->\n<!-- Title: G Pages: 1 -->\n<svg width=\"269pt\" height=\"305pt\"\n viewBox=\"0.00 0.00 269.36 305.00\" xmlns=\"http://www.w3.org/2000/svg\" xmlns:xlink=\"http://www.w3.org/1999/xlink\">\n<g id=\"graph0\" class=\"graph\" transform=\"scale(1 1) rotate(0) translate(4 301)\">\n<title>G</title>\n<polygon fill=\"#ffffff\" stroke=\"transparent\" points=\"-4,4 -4,-301 265.3589,-301 265.3589,4 -4,4\"/>\n<!-- 14 -->\n<g id=\"node1\" class=\"node\">\n<title>14</title>\n<ellipse fill=\"none\" stroke=\"#000000\" cx=\"156.3589\" cy=\"-279\" rx=\"64.9885\" ry=\"18\"/>\n<text text-anchor=\"middle\" x=\"156.3589\" y=\"-275.3\" font-family=\"Times,serif\" font-size=\"14.00\" fill=\"#000000\">AGUA AZUL</text>\n</g>\n<!-- 15 -->\n<g id=\"node2\" class=\"node\">\n<title>15</title>\n<ellipse fill=\"none\" stroke=\"#000000\" cx=\"76.3589\" cy=\"-192\" rx=\"43.5923\" ry=\"18\"/>\n<text text-anchor=\"middle\" x=\"76.3589\" y=\"-188.3\" font-family=\"Times,serif\" font-size=\"14.00\" fill=\"#000000\">CHALA</text>\n</g>\n<!-- 14&#45;&#45;15 -->\n<g id=\"edge1\" class=\"edge\">\n<title>14&#45;&#45;15</title>\n<path fill=\"none\" stroke=\"#000000\" d=\"M135.1867,-261.8125C128.5812,-256.0876 121.4384,-249.5057 115.3589,-243 105.6177,-232.5758 95.8677,-219.8258 88.553,-209.6819\"/>\n<text text-anchor=\"middle\" x=\"128.8589\" y=\"-231.8\" font-family=\"Times,serif\" font-size=\"14.00\" fill=\"#000000\">1.59</text>\n</g>\n<!-- 16 -->\n<g id=\"node3\" class=\"node\">\n<title>16</title>\n<ellipse fill=\"none\" stroke=\"#000000\" cx=\"129.3589\" cy=\"-105\" rx=\"88.2844\" ry=\"18\"/>\n<text text-anchor=\"middle\" x=\"129.3589\" y=\"-101.3\" font-family=\"Times,serif\" font-size=\"14.00\" fill=\"#000000\">PUERTO CHOROS</text>\n</g>\n<!-- 14&#45;&#45;16 -->\n<g id=\"edge2\" class=\"edge\">\n<title>14&#45;&#45;16</title>\n<path fill=\"none\" stroke=\"#000000\" d=\"M155.9337,-260.9088C154.9928,-234.32 151.98,-183.2651 142.3589,-141 141.002,-135.0391 138.9414,-128.7131 136.8582,-123.0544\"/>\n<text text-anchor=\"middle\" x=\"170.3589\" y=\"-188.3\" font-family=\"Times,serif\" font-size=\"14.00\" fill=\"#000000\">11.22</text>\n</g>\n<!-- 17 -->\n<g id=\"node4\" class=\"node\">\n<title>17</title>\n<ellipse fill=\"none\" stroke=\"#000000\" cx=\"129.3589\" cy=\"-18\" rx=\"55.7903\" ry=\"18\"/>\n<text text-anchor=\"middle\" x=\"129.3589\" y=\"-14.3\" font-family=\"Times,serif\" font-size=\"14.00\" fill=\"#000000\">TAGTAGO</text>\n</g>\n<!-- 14&#45;&#45;17 -->\n<g id=\"edge3\" class=\"edge\">\n<title>14&#45;&#45;17</title>\n<path fill=\"none\" stroke=\"#000000\" d=\"M172.2403,-261.4337C201.4439,-226.8914 257.9142,-148.171 226.3589,-87 213.2842,-61.6542 186.1186,-43.5837 163.8532,-32.3101\"/>\n<text text-anchor=\"middle\" x=\"247.8589\" y=\"-144.8\" font-family=\"Times,serif\" font-size=\"14.00\" fill=\"#000000\">1.77</text>\n</g>\n<!-- 15&#45;&#45;16 -->\n<g id=\"edge4\" class=\"edge\">\n<title>15&#45;&#45;16</title>\n<path fill=\"none\" stroke=\"#000000\" d=\"M87.0843,-174.3943C96.219,-159.3994 109.2857,-137.9505 118.4676,-122.8782\"/>\n<text text-anchor=\"middle\" x=\"123.3589\" y=\"-144.8\" font-family=\"Times,serif\" font-size=\"14.00\" fill=\"#000000\">10.65</text>\n</g>\n<!-- 15&#45;&#45;17 -->\n<g id=\"edge5\" class=\"edge\">\n<title>15&#45;&#45;17</title>\n<path fill=\"none\" stroke=\"#000000\" d=\"M53.1985,-176.7421C25.7269,-156.6527 -14.0475,-120.0073 5.3589,-87 22.7151,-57.4798 57.7806,-39.6744 86.2074,-29.5654\"/>\n<text text-anchor=\"middle\" x=\"18.8589\" y=\"-101.3\" font-family=\"Times,serif\" font-size=\"14.00\" fill=\"#000000\">0.89</text>\n</g>\n<!-- 16&#45;&#45;17 -->\n<g id=\"edge6\" class=\"edge\">\n<title>16&#45;&#45;17</title>\n<path fill=\"none\" stroke=\"#000000\" d=\"M129.3589,-86.9735C129.3589,-72.0422 129.3589,-50.9283 129.3589,-36.0034\"/>\n<text text-anchor=\"middle\" x=\"146.3589\" y=\"-57.8\" font-family=\"Times,serif\" font-size=\"14.00\" fill=\"#000000\">11.52</text>\n</g>\n</g>\n</svg>\n"
          },
          "metadata": {
            "tags": []
          },
          "execution_count": 23
        }
      ]
    },
    {
      "cell_type": "markdown",
      "metadata": {
        "id": "eHp3K8j83oA1"
      },
      "source": [
        "Aplicando Algoritmo 2"
      ]
    },
    {
      "cell_type": "code",
      "metadata": {
        "id": "UkiDjCQfJUnT"
      },
      "source": [
        "G1 = nx.Graph()\n",
        "def _dijkstra1(G, s, pobls, first):\n",
        "  pob = -1\n",
        "  largo=10000\n",
        "  for v in G.neighbors(s):\n",
        "    if G.edges[s, v]['weight'] < largo and v in pobls:\n",
        "      #Guardando ruta y cent. pobl. vecino más cercano al nodo\n",
        "      largo, pob = G.edges[s, v]['weight'], v\n",
        "          \n",
        "  #Quitar el cent. pobl. obtenido\n",
        "  pobls.remove(s)\n",
        "  G1.add_node(s, label=G.nodes[s]['label'])\n",
        "\n",
        "  if pobls:\n",
        "    G1.add_edge(s, pob, weight=largo)\n",
        "    _dijkstra1(G, pob, pobls, first)\n",
        "  else:\n",
        "    G1.add_edge(s, first, weight=G.edges[s, first]['weight'])\n",
        "\n",
        "\n",
        "def dijkstra1(G, s):\n",
        "  pobls = []\n",
        "  first = -1\n",
        "  for i, cp1 in distrito.iterrows():\n",
        "    #Comparar el nombre del centro poblado con su nodo respectivo\n",
        "    if cp1[col] == s:\n",
        "      #Guardando el primer nodo\n",
        "      first=i\n",
        "      break\n",
        "\n",
        "  #Añadiendo valores a la cola para indicar saber si se visitó un nodo o no\n",
        "  for u in G.nodes:\n",
        "    pobls.append(u)\n",
        "\n",
        "  _dijkstra1(G, first, pobls, first)"
      ],
      "execution_count": null,
      "outputs": []
    },
    {
      "cell_type": "code",
      "metadata": {
        "colab": {
          "base_uri": "https://localhost:8080/",
          "height": 445
        },
        "id": "YoJ8BEr8PvZA",
        "outputId": "fc897016-b3fa-4ea9-c605-56bd5b397e31"
      },
      "source": [
        "dijkstra1(G, nom_centro_pob)\n",
        "gs.nx2gv(G1, weighted=True, params={'size':'5'}, nodeinfo=True)"
      ],
      "execution_count": null,
      "outputs": [
        {
          "output_type": "stream",
          "text": [
            "15\n"
          ],
          "name": "stdout"
        },
        {
          "output_type": "execute_result",
          "data": {
            "text/plain": [
              "<graphviz.dot.Graph at 0x7f7cf58b3a10>"
            ],
            "image/svg+xml": "<?xml version=\"1.0\" encoding=\"UTF-8\" standalone=\"no\"?>\n<!DOCTYPE svg PUBLIC \"-//W3C//DTD SVG 1.1//EN\"\n \"http://www.w3.org/Graphics/SVG/1.1/DTD/svg11.dtd\">\n<!-- Generated by graphviz version 2.40.1 (20161225.0304)\n -->\n<!-- Title: G Pages: 1 -->\n<svg width=\"207pt\" height=\"305pt\"\n viewBox=\"0.00 0.00 207.39 305.00\" xmlns=\"http://www.w3.org/2000/svg\" xmlns:xlink=\"http://www.w3.org/1999/xlink\">\n<g id=\"graph0\" class=\"graph\" transform=\"scale(1 1) rotate(0) translate(4 301)\">\n<title>G</title>\n<polygon fill=\"#ffffff\" stroke=\"transparent\" points=\"-4,4 -4,-301 203.3864,-301 203.3864,4 -4,4\"/>\n<!-- 15 -->\n<g id=\"node1\" class=\"node\">\n<title>15</title>\n<ellipse fill=\"none\" stroke=\"#000000\" cx=\"115.9942\" cy=\"-279\" rx=\"43.5923\" ry=\"18\"/>\n<text text-anchor=\"middle\" x=\"115.9942\" y=\"-275.3\" font-family=\"Times,serif\" font-size=\"14.00\" fill=\"#000000\">CHALA</text>\n</g>\n<!-- 17 -->\n<g id=\"node2\" class=\"node\">\n<title>17</title>\n<ellipse fill=\"none\" stroke=\"#000000\" cx=\"71.9942\" cy=\"-192\" rx=\"55.7903\" ry=\"18\"/>\n<text text-anchor=\"middle\" x=\"71.9942\" y=\"-188.3\" font-family=\"Times,serif\" font-size=\"14.00\" fill=\"#000000\">TAGTAGO</text>\n</g>\n<!-- 15&#45;&#45;17 -->\n<g id=\"edge1\" class=\"edge\">\n<title>15&#45;&#45;17</title>\n<path fill=\"none\" stroke=\"#000000\" d=\"M106.8774,-260.9735C99.3259,-246.0422 88.6476,-224.9283 81.0994,-210.0034\"/>\n<text text-anchor=\"middle\" x=\"110.4942\" y=\"-231.8\" font-family=\"Times,serif\" font-size=\"14.00\" fill=\"#000000\">0.89</text>\n</g>\n<!-- 16 -->\n<g id=\"node4\" class=\"node\">\n<title>16</title>\n<ellipse fill=\"none\" stroke=\"#000000\" cx=\"110.9942\" cy=\"-18\" rx=\"88.2844\" ry=\"18\"/>\n<text text-anchor=\"middle\" x=\"110.9942\" y=\"-14.3\" font-family=\"Times,serif\" font-size=\"14.00\" fill=\"#000000\">PUERTO CHOROS</text>\n</g>\n<!-- 15&#45;&#45;16 -->\n<g id=\"edge2\" class=\"edge\">\n<title>15&#45;&#45;16</title>\n<path fill=\"none\" stroke=\"#000000\" d=\"M122.1727,-261.1173C124.1051,-255.3552 126.1997,-248.9271 127.9942,-243 148.1358,-176.4769 149.1828,-155.7547 138.9942,-87 136.3032,-68.8407 127.9826,-49.5971 121.1056,-36.0593\"/>\n<text text-anchor=\"middle\" x=\"162.9942\" y=\"-144.8\" font-family=\"Times,serif\" font-size=\"14.00\" fill=\"#000000\">10.65</text>\n</g>\n<!-- 14 -->\n<g id=\"node3\" class=\"node\">\n<title>14</title>\n<ellipse fill=\"none\" stroke=\"#000000\" cx=\"64.9942\" cy=\"-105\" rx=\"64.9885\" ry=\"18\"/>\n<text text-anchor=\"middle\" x=\"64.9942\" y=\"-101.3\" font-family=\"Times,serif\" font-size=\"14.00\" fill=\"#000000\">AGUA AZUL</text>\n</g>\n<!-- 17&#45;&#45;14 -->\n<g id=\"edge3\" class=\"edge\">\n<title>17&#45;&#45;14</title>\n<path fill=\"none\" stroke=\"#000000\" d=\"M70.5438,-173.9735C69.3425,-159.0422 67.6436,-137.9283 66.4428,-123.0034\"/>\n<text text-anchor=\"middle\" x=\"82.4942\" y=\"-144.8\" font-family=\"Times,serif\" font-size=\"14.00\" fill=\"#000000\">1.77</text>\n</g>\n<!-- 14&#45;&#45;16 -->\n<g id=\"edge4\" class=\"edge\">\n<title>14&#45;&#45;16</title>\n<path fill=\"none\" stroke=\"#000000\" d=\"M74.5255,-86.9735C82.4202,-72.0422 93.5839,-50.9283 101.4752,-36.0034\"/>\n<text text-anchor=\"middle\" x=\"107.9942\" y=\"-57.8\" font-family=\"Times,serif\" font-size=\"14.00\" fill=\"#000000\">11.22</text>\n</g>\n</g>\n</svg>\n"
          },
          "metadata": {
            "tags": []
          },
          "execution_count": 27
        }
      ]
    },
    {
      "cell_type": "code",
      "metadata": {
        "id": "CpT-ifVvnuVs"
      },
      "source": [
        "G1 = nx.Graph()  \n",
        "q_poblaciones = []\n",
        "\n",
        "def dijkstra(G, s):\n",
        "  for u in G.nodes:\n",
        "    q_poblaciones.append(u)\n",
        "\n",
        "  first = s\n",
        "  largo = 10000\n",
        "  poblacion = ''\n",
        "\n",
        "  while q_poblaciones:\n",
        "    for v in G.neighbors(s):\n",
        "      if G.edges[s, v]['weight'] < largo and v in q_poblaciones:\n",
        "        largo, poblacion = G.edges[s, v]['weight'], v\n",
        "          \n",
        "    q_poblaciones.remove(s)\n",
        "    if not q_poblaciones:\n",
        "      G1.add_edge(s, first, weight=G.edges[s, first]['weight'])\n",
        "      break\n",
        "    \n",
        "    G1.add_edge(s, poblacion, weight=largo)\n",
        "    s = poblacion\n",
        "    poblacion = ''\n",
        "    largo = 10000\n",
        "\n"
      ],
      "execution_count": null,
      "outputs": []
    },
    {
      "cell_type": "code",
      "metadata": {
        "colab": {
          "base_uri": "https://localhost:8080/",
          "height": 501
        },
        "id": "CpnC_dbgtWuJ",
        "outputId": "319d5c66-bc28-4453-e70f-e7736ef1b151"
      },
      "source": [
        "dijkstra(G, nom_centro_pob)\n",
        "gs.nx2gv(G1, weighted=True, params={'size':'5'})"
      ],
      "execution_count": null,
      "outputs": [
        {
          "output_type": "execute_result",
          "data": {
            "text/plain": [
              "<graphviz.dot.Graph at 0x7fbf1b8b5350>"
            ],
            "image/svg+xml": "<?xml version=\"1.0\" encoding=\"UTF-8\" standalone=\"no\"?>\n<!DOCTYPE svg PUBLIC \"-//W3C//DTD SVG 1.1//EN\"\n \"http://www.w3.org/Graphics/SVG/1.1/DTD/svg11.dtd\">\n<!-- Generated by graphviz version 2.40.1 (20161225.0304)\n -->\n<!-- Title: G Pages: 1 -->\n<svg width=\"283pt\" height=\"360pt\"\n viewBox=\"0.00 0.00 283.38 360.00\" xmlns=\"http://www.w3.org/2000/svg\" xmlns:xlink=\"http://www.w3.org/1999/xlink\">\n<g id=\"graph0\" class=\"graph\" transform=\"scale(.636 .636) rotate(0) translate(4 562)\">\n<title>G</title>\n<polygon fill=\"#ffffff\" stroke=\"transparent\" points=\"-4,4 -4,-562 441.5381,-562 441.5381,4 -4,4\"/>\n<!-- LA BANDA -->\n<g id=\"node1\" class=\"node\">\n<title>LA BANDA</title>\n<ellipse fill=\"none\" stroke=\"#000000\" cx=\"213.5381\" cy=\"-540\" rx=\"59.2899\" ry=\"18\"/>\n<text text-anchor=\"middle\" x=\"213.5381\" y=\"-536.3\" font-family=\"Times,serif\" font-size=\"14.00\" fill=\"#000000\">LA BANDA</text>\n</g>\n<!-- EL CARMEN -->\n<g id=\"node2\" class=\"node\">\n<title>EL CARMEN</title>\n<ellipse fill=\"none\" stroke=\"#000000\" cx=\"130.5381\" cy=\"-453\" rx=\"64.9885\" ry=\"18\"/>\n<text text-anchor=\"middle\" x=\"130.5381\" y=\"-449.3\" font-family=\"Times,serif\" font-size=\"14.00\" fill=\"#000000\">EL CARMEN</text>\n</g>\n<!-- LA BANDA&#45;&#45;EL CARMEN -->\n<g id=\"edge1\" class=\"edge\">\n<title>LA BANDA&#45;&#45;EL CARMEN</title>\n<path fill=\"none\" stroke=\"#000000\" d=\"M164.7534,-529.4805C151.4159,-524.1281 138.4665,-516.0809 130.5381,-504 124.3198,-494.5249 124.3198,-481.7749 125.8743,-471.3937\"/>\n<text text-anchor=\"middle\" x=\"207.5381\" y=\"-492.8\" font-family=\"Times,serif\" font-size=\"14.00\" fill=\"#000000\">0.0038898962710989865</text>\n</g>\n<!-- RANCHERIA -->\n<g id=\"node7\" class=\"node\">\n<title>RANCHERIA</title>\n<ellipse fill=\"none\" stroke=\"#000000\" cx=\"220.5381\" cy=\"-18\" rx=\"65.7887\" ry=\"18\"/>\n<text text-anchor=\"middle\" x=\"220.5381\" y=\"-14.3\" font-family=\"Times,serif\" font-size=\"14.00\" fill=\"#000000\">RANCHERIA</text>\n</g>\n<!-- LA BANDA&#45;&#45;RANCHERIA -->\n<g id=\"edge2\" class=\"edge\">\n<title>LA BANDA&#45;&#45;RANCHERIA</title>\n<path fill=\"none\" stroke=\"#000000\" d=\"M253.719,-526.7323C265.0652,-521.2682 276.4965,-513.8488 284.5381,-504 299.4041,-485.793 298.5381,-476.5052 298.5381,-453 298.5381,-453 298.5381,-453 298.5381,-105 298.5381,-81.4948 299.0081,-72.5233 284.5381,-54 277.7103,-45.2597 268.1317,-38.3023 258.4605,-32.9254\"/>\n<text text-anchor=\"middle\" x=\"368.0381\" y=\"-275.3\" font-family=\"Times,serif\" font-size=\"14.00\" fill=\"#000000\">0.12477379825107267</text>\n</g>\n<!-- SAN JOSE DE LOS MOLINOS -->\n<g id=\"node3\" class=\"node\">\n<title>SAN JOSE DE LOS MOLINOS</title>\n<ellipse fill=\"none\" stroke=\"#000000\" cx=\"134.5381\" cy=\"-366\" rx=\"134.5761\" ry=\"18\"/>\n<text text-anchor=\"middle\" x=\"134.5381\" y=\"-362.3\" font-family=\"Times,serif\" font-size=\"14.00\" fill=\"#000000\">SAN JOSE DE LOS MOLINOS</text>\n</g>\n<!-- EL CARMEN&#45;&#45;SAN JOSE DE LOS MOLINOS -->\n<g id=\"edge3\" class=\"edge\">\n<title>EL CARMEN&#45;&#45;SAN JOSE DE LOS MOLINOS</title>\n<path fill=\"none\" stroke=\"#000000\" d=\"M131.3669,-434.9735C132.0534,-420.0422 133.0241,-398.9283 133.7103,-384.0034\"/>\n<text text-anchor=\"middle\" x=\"207.0381\" y=\"-405.8\" font-family=\"Times,serif\" font-size=\"14.00\" fill=\"#000000\">0.012952567699109794</text>\n</g>\n<!-- HOGAR DE CRISTO -->\n<g id=\"node4\" class=\"node\">\n<title>HOGAR DE CRISTO</title>\n<ellipse fill=\"none\" stroke=\"#000000\" cx=\"135.5381\" cy=\"-279\" rx=\"95.5831\" ry=\"18\"/>\n<text text-anchor=\"middle\" x=\"135.5381\" y=\"-275.3\" font-family=\"Times,serif\" font-size=\"14.00\" fill=\"#000000\">HOGAR DE CRISTO</text>\n</g>\n<!-- SAN JOSE DE LOS MOLINOS&#45;&#45;HOGAR DE CRISTO -->\n<g id=\"edge4\" class=\"edge\">\n<title>SAN JOSE DE LOS MOLINOS&#45;&#45;HOGAR DE CRISTO</title>\n<path fill=\"none\" stroke=\"#000000\" d=\"M134.7453,-347.9735C134.9169,-333.0422 135.1596,-311.9283 135.3311,-297.0034\"/>\n<text text-anchor=\"middle\" x=\"209.0381\" y=\"-318.8\" font-family=\"Times,serif\" font-size=\"14.00\" fill=\"#000000\">0.017370054605549058</text>\n</g>\n<!-- ZEVALLOS -->\n<g id=\"node5\" class=\"node\">\n<title>ZEVALLOS</title>\n<ellipse fill=\"none\" stroke=\"#000000\" cx=\"140.5381\" cy=\"-192\" rx=\"59.2899\" ry=\"18\"/>\n<text text-anchor=\"middle\" x=\"140.5381\" y=\"-188.3\" font-family=\"Times,serif\" font-size=\"14.00\" fill=\"#000000\">ZEVALLOS</text>\n</g>\n<!-- HOGAR DE CRISTO&#45;&#45;ZEVALLOS -->\n<g id=\"edge5\" class=\"edge\">\n<title>HOGAR DE CRISTO&#45;&#45;ZEVALLOS</title>\n<path fill=\"none\" stroke=\"#000000\" d=\"M136.0651,-260.5774C136.392,-250.8787 136.8772,-238.7902 137.5381,-228 137.8908,-222.2409 138.3774,-215.9717 138.8562,-210.3029\"/>\n<text text-anchor=\"middle\" x=\"211.0381\" y=\"-231.8\" font-family=\"Times,serif\" font-size=\"14.00\" fill=\"#000000\">0.016640301980431413</text>\n</g>\n<!-- SAN JOSE DE HUAMANI -->\n<g id=\"node6\" class=\"node\">\n<title>SAN JOSE DE HUAMANI</title>\n<ellipse fill=\"none\" stroke=\"#000000\" cx=\"142.5381\" cy=\"-105\" rx=\"116.1796\" ry=\"18\"/>\n<text text-anchor=\"middle\" x=\"142.5381\" y=\"-101.3\" font-family=\"Times,serif\" font-size=\"14.00\" fill=\"#000000\">SAN JOSE DE HUAMANI</text>\n</g>\n<!-- ZEVALLOS&#45;&#45;SAN JOSE DE HUAMANI -->\n<g id=\"edge6\" class=\"edge\">\n<title>ZEVALLOS&#45;&#45;SAN JOSE DE HUAMANI</title>\n<path fill=\"none\" stroke=\"#000000\" d=\"M140.9525,-173.9735C141.2957,-159.0422 141.7811,-137.9283 142.1242,-123.0034\"/>\n<text text-anchor=\"middle\" x=\"212.0381\" y=\"-144.8\" font-family=\"Times,serif\" font-size=\"14.00\" fill=\"#000000\">0.09025781209957044</text>\n</g>\n<!-- SAN JOSE DE HUAMANI&#45;&#45;RANCHERIA -->\n<g id=\"edge7\" class=\"edge\">\n<title>SAN JOSE DE HUAMANI&#45;&#45;RANCHERIA</title>\n<path fill=\"none\" stroke=\"#000000\" d=\"M139.2936,-86.5704C138.4622,-76.1772 139.2122,-63.4272 145.5381,-54 152.4592,-43.6858 163.1942,-36.2387 174.3996,-30.8964\"/>\n<text text-anchor=\"middle\" x=\"215.0381\" y=\"-57.8\" font-family=\"Times,serif\" font-size=\"14.00\" fill=\"#000000\">0.02339650617079131</text>\n</g>\n</g>\n</svg>\n"
          },
          "metadata": {
            "tags": []
          },
          "execution_count": 60
        }
      ]
    }
  ]
}